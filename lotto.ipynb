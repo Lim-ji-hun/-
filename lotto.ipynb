{
 "cells": [
  {
   "cell_type": "code",
   "execution_count": 1,
   "metadata": {},
   "outputs": [
    {
     "name": "stdout",
     "output_type": "stream",
     "text": [
      "Requirement already satisfied: numpy in c:\\users\\sandg\\anaconda3\\lib\\site-packages (1.26.4)\n",
      "Note: you may need to restart the kernel to use updated packages.\n"
     ]
    }
   ],
   "source": [
    "pip install numpy"
   ]
  },
  {
   "cell_type": "code",
   "execution_count": 1,
   "metadata": {},
   "outputs": [
    {
     "name": "stdout",
     "output_type": "stream",
     "text": [
      "^C\n"
     ]
    },
    {
     "name": "stderr",
     "output_type": "stream",
     "text": [
      "ERROR: Invalid requirement: \"'h5py==2.10.0'\": Expected package name at the start of dependency specifier\n",
      "    'h5py==2.10.0'\n",
      "    ^\n"
     ]
    }
   ],
   "source": [
    "from __future__ import absolute_import, division, print_function, unicode_literals\n",
    "# !pip install tensorflow-gpu==2.0.0-rc1\n",
    "!pip install 'h5py==2.10.0' --force-reinstall"
   ]
  },
  {
   "cell_type": "code",
   "execution_count": 41,
   "metadata": {},
   "outputs": [
    {
     "name": "stdout",
     "output_type": "stream",
     "text": [
      "Collecting mysql-connector-python\n",
      "  Downloading mysql_connector_python-9.0.0-cp38-cp38-win_amd64.whl.metadata (2.0 kB)\n",
      "Downloading mysql_connector_python-9.0.0-cp38-cp38-win_amd64.whl (14.3 MB)\n",
      "   ---------------------------------------- 0.0/14.3 MB ? eta -:--:--\n",
      "   ----- ---------------------------------- 2.1/14.3 MB 14.7 MB/s eta 0:00:01\n",
      "   ------------- -------------------------- 5.0/14.3 MB 14.4 MB/s eta 0:00:01\n",
      "   ----------------------- ---------------- 8.4/14.3 MB 14.5 MB/s eta 0:00:01\n",
      "   ------------------------------- -------- 11.3/14.3 MB 14.4 MB/s eta 0:00:01\n",
      "   ---------------------------------------  14.2/14.3 MB 14.1 MB/s eta 0:00:01\n",
      "   ---------------------------------------- 14.3/14.3 MB 13.3 MB/s eta 0:00:00\n",
      "Installing collected packages: mysql-connector-python\n",
      "Successfully installed mysql-connector-python-9.0.0\n",
      "Note: you may need to restart the kernel to use updated packages.\n"
     ]
    },
    {
     "name": "stderr",
     "output_type": "stream",
     "text": [
      "WARNING: Ignoring invalid distribution -rotobuf (c:\\users\\sandg\\appdata\\local\\programs\\python\\python38\\lib\\site-packages)\n",
      "WARNING: Ignoring invalid distribution -rotobuf (c:\\users\\sandg\\appdata\\local\\programs\\python\\python38\\lib\\site-packages)\n",
      "WARNING: Ignoring invalid distribution -rotobuf (c:\\users\\sandg\\appdata\\local\\programs\\python\\python38\\lib\\site-packages)\n"
     ]
    }
   ],
   "source": [
    "pip install mysql-connector-python"
   ]
  },
  {
   "cell_type": "code",
   "execution_count": null,
   "metadata": {},
   "outputs": [],
   "source": []
  },
  {
   "cell_type": "code",
   "execution_count": 3,
   "metadata": {},
   "outputs": [
    {
     "name": "stdout",
     "output_type": "stream",
     "text": [
      "총 537개의 로또 기록이 있습니다.\n"
     ]
    }
   ],
   "source": [
    "import mysql.connector\n",
    "import numpy as np\n",
    "# 데이터베이스 연결 설정\n",
    "db_connection = mysql.connector.connect(\n",
    "    host='localhost',        # MySQL 서버 주소\n",
    "    user='root',    # MySQL 사용자명\n",
    "    password='1234', # MySQL 비밀번호\n",
    "    database='lotto'  # 연결할 데이터베이스 이름\n",
    ")\n",
    "\n",
    "# 커서 생성\n",
    "cursor = db_connection.cursor()\n",
    "\n",
    "# SQL 쿼리 실행\n",
    "cursor.execute(\"SELECT * FROM lotto\")\n",
    "\n",
    "rows = cursor.fetchall()\n",
    "rows = np.array(rows)\n",
    "row_count = len(rows)\n",
    "print(f'총 {row_count}개의 로또 기록이 있습니다.')\n",
    "\n"
   ]
  },
  {
   "cell_type": "code",
   "execution_count": 4,
   "metadata": {},
   "outputs": [],
   "source": [
    "import numpy as np\n",
    "\n",
    "\n",
    "def numbers2ohbin(numbers):\n",
    "\n",
    "    ohbin = np.zeros(45) #45개의 빈 칸을 만듬\n",
    "\n",
    "    for i in range(6): #여섯개의 당첨번호에 대해서 반복함\n",
    "        ohbin[int(numbers[i])-1] = 1 #로또번호가 1부터 시작하지만 벡터의 인덱스 시작은 0부터 시작하므로 1을 뺌\n",
    "    \n",
    "    return ohbin\n",
    "\n",
    "#원핫인코딩으로 변환\n",
    "def ohbin2numbers(ohbin):\n",
    "\n",
    "    numbers = []\n",
    "    \n",
    "    for i in range(len(ohbin)):\n",
    "        if ohbin[i] == 1.0: # 1.0으로 설정되어 있으면 해당 번호를 반환값에 추가한다.\n",
    "            numbers.append(i+1)\n",
    "    \n",
    "    return numbers"
   ]
  },
  {
   "cell_type": "code",
   "execution_count": 5,
   "metadata": {},
   "outputs": [
    {
     "name": "stdout",
     "output_type": "stream",
     "text": [
      "ohbins\n",
      "X[0]: [0. 1. 0. 0. 0. 0. 0. 0. 0. 0. 0. 0. 0. 0. 0. 1. 0. 0. 1. 0. 0. 0. 0. 0.\n",
      " 0. 0. 0. 0. 0. 0. 1. 0. 0. 1. 1. 0. 0. 0. 0. 0. 0. 0. 0. 0. 0.]\n",
      "Y[0]: [0. 0. 0. 0. 0. 0. 0. 0. 0. 0. 0. 0. 1. 1. 0. 0. 0. 0. 0. 0. 0. 1. 0. 0.\n",
      " 0. 0. 1. 0. 0. 1. 0. 0. 0. 0. 0. 0. 0. 1. 0. 0. 0. 0. 0. 0. 0.]\n",
      "numbers\n",
      "X[0]: [2, 16, 19, 31, 34, 35]\n",
      "Y[0]: [13, 14, 22, 27, 30, 38]\n"
     ]
    }
   ],
   "source": [
    "numbers = rows[:, 1:7]\n",
    "ohbins = list(map(numbers2ohbin, numbers))\n",
    "\n",
    "x_samples = ohbins[0:row_count-1]\n",
    "y_samples = ohbins[1:row_count]\n",
    "\n",
    "#원핫인코딩으로 표시\n",
    "print(\"ohbins\")\n",
    "print(\"X[0]: \" + str(x_samples[0]))\n",
    "print(\"Y[0]: \" + str(y_samples[0]))\n",
    "\n",
    "#번호로 표시\n",
    "print(\"numbers\")\n",
    "print(\"X[0]: \" + str(ohbin2numbers(x_samples[0])))\n",
    "print(\"Y[0]: \" + str(ohbin2numbers(y_samples[0])))"
   ]
  },
  {
   "cell_type": "code",
   "execution_count": 8,
   "metadata": {},
   "outputs": [],
   "source": [
    "train_idx = (0, 400) #훈련\n",
    "val_idx = (401, 500) #검증\n",
    "test_idx = (501, len(x_samples)) #시험"
   ]
  },
  {
   "cell_type": "code",
   "execution_count": 6,
   "metadata": {},
   "outputs": [],
   "source": [
    "import tensorflow as tf\n",
    "from tensorflow import keras\n",
    "from tensorflow.keras import layers\n",
    "from tensorflow.keras import models\n",
    "\n",
    "# 모델을 정의합니다.\n",
    "model = keras.Sequential([\n",
    "    keras.layers.LSTM(128, batch_input_shape=(1, 1, 45), return_sequences=False, stateful=True),\n",
    "    keras.layers.Dense(45, activation='sigmoid')\n",
    "])\n",
    "\n",
    "# 모델을 컴파일합니다.\n",
    "model.compile(loss='binary_crossentropy', optimizer='adam', metrics=['accuracy'])"
   ]
  },
  {
   "cell_type": "code",
   "execution_count": 12,
   "metadata": {},
   "outputs": [
    {
     "name": "stdout",
     "output_type": "stream",
     "text": [
      "2.13.0\n"
     ]
    }
   ],
   "source": [
    "print(tf.__version__)"
   ]
  },
  {
   "cell_type": "code",
   "execution_count": 13,
   "metadata": {},
   "outputs": [
    {
     "name": "stdout",
     "output_type": "stream",
     "text": [
      "epoch    0 train acc 0.037 loss 0.417 val acc 0.051 loss 0.399\n",
      "epoch    1 train acc 0.040 loss 0.397 val acc 0.051 loss 0.398\n",
      "epoch    2 train acc 0.037 loss 0.394 val acc 0.051 loss 0.398\n",
      "epoch    3 train acc 0.043 loss 0.391 val acc 0.030 loss 0.398\n",
      "epoch    4 train acc 0.043 loss 0.387 val acc 0.020 loss 0.400\n",
      "epoch    5 train acc 0.050 loss 0.382 val acc 0.010 loss 0.402\n",
      "epoch    6 train acc 0.055 loss 0.375 val acc 0.020 loss 0.405\n",
      "epoch    7 train acc 0.060 loss 0.367 val acc 0.020 loss 0.409\n",
      "epoch    8 train acc 0.060 loss 0.360 val acc 0.020 loss 0.413\n",
      "epoch    9 train acc 0.080 loss 0.352 val acc 0.020 loss 0.418\n",
      "epoch   10 train acc 0.080 loss 0.344 val acc 0.020 loss 0.422\n",
      "epoch   11 train acc 0.077 loss 0.336 val acc 0.010 loss 0.427\n",
      "epoch   12 train acc 0.092 loss 0.328 val acc 0.010 loss 0.432\n",
      "epoch   13 train acc 0.102 loss 0.319 val acc 0.010 loss 0.438\n",
      "epoch   14 train acc 0.113 loss 0.311 val acc 0.010 loss 0.443\n",
      "epoch   15 train acc 0.115 loss 0.301 val acc 0.010 loss 0.449\n",
      "epoch   16 train acc 0.128 loss 0.292 val acc 0.010 loss 0.455\n",
      "epoch   17 train acc 0.138 loss 0.282 val acc 0.020 loss 0.462\n",
      "epoch   18 train acc 0.147 loss 0.272 val acc 0.020 loss 0.469\n",
      "epoch   19 train acc 0.150 loss 0.262 val acc 0.010 loss 0.476\n",
      "epoch   20 train acc 0.142 loss 0.251 val acc 0.010 loss 0.484\n",
      "epoch   21 train acc 0.147 loss 0.240 val acc 0.010 loss 0.491\n",
      "epoch   22 train acc 0.147 loss 0.229 val acc 0.010 loss 0.498\n",
      "epoch   23 train acc 0.142 loss 0.217 val acc 0.010 loss 0.506\n",
      "epoch   24 train acc 0.145 loss 0.206 val acc 0.000 loss 0.516\n",
      "epoch   25 train acc 0.155 loss 0.194 val acc 0.000 loss 0.526\n",
      "epoch   26 train acc 0.165 loss 0.183 val acc 0.010 loss 0.536\n",
      "epoch   27 train acc 0.142 loss 0.173 val acc 0.020 loss 0.546\n",
      "epoch   28 train acc 0.160 loss 0.162 val acc 0.020 loss 0.555\n",
      "epoch   29 train acc 0.152 loss 0.152 val acc 0.020 loss 0.565\n",
      "epoch   30 train acc 0.170 loss 0.142 val acc 0.020 loss 0.577\n",
      "epoch   31 train acc 0.163 loss 0.132 val acc 0.010 loss 0.592\n",
      "epoch   32 train acc 0.160 loss 0.123 val acc 0.000 loss 0.603\n",
      "epoch   33 train acc 0.155 loss 0.115 val acc 0.000 loss 0.619\n",
      "epoch   34 train acc 0.177 loss 0.107 val acc 0.000 loss 0.635\n",
      "epoch   35 train acc 0.160 loss 0.100 val acc 0.000 loss 0.650\n",
      "epoch   36 train acc 0.165 loss 0.092 val acc 0.010 loss 0.661\n",
      "epoch   37 train acc 0.177 loss 0.085 val acc 0.010 loss 0.668\n",
      "epoch   38 train acc 0.172 loss 0.082 val acc 0.010 loss 0.683\n",
      "epoch   39 train acc 0.170 loss 0.075 val acc 0.030 loss 0.693\n",
      "epoch   40 train acc 0.160 loss 0.068 val acc 0.020 loss 0.711\n",
      "epoch   41 train acc 0.175 loss 0.063 val acc 0.020 loss 0.727\n",
      "epoch   42 train acc 0.155 loss 0.060 val acc 0.030 loss 0.744\n",
      "epoch   43 train acc 0.182 loss 0.055 val acc 0.020 loss 0.758\n",
      "epoch   44 train acc 0.177 loss 0.052 val acc 0.020 loss 0.762\n",
      "epoch   45 train acc 0.205 loss 0.049 val acc 0.030 loss 0.768\n",
      "epoch   46 train acc 0.163 loss 0.045 val acc 0.010 loss 0.788\n",
      "epoch   47 train acc 0.203 loss 0.039 val acc 0.030 loss 0.787\n",
      "epoch   48 train acc 0.170 loss 0.034 val acc 0.020 loss 0.813\n",
      "epoch   49 train acc 0.175 loss 0.035 val acc 0.020 loss 0.819\n",
      "epoch   50 train acc 0.177 loss 0.036 val acc 0.020 loss 0.829\n",
      "epoch   51 train acc 0.168 loss 0.035 val acc 0.020 loss 0.837\n",
      "epoch   52 train acc 0.170 loss 0.029 val acc 0.030 loss 0.851\n",
      "epoch   53 train acc 0.147 loss 0.025 val acc 0.020 loss 0.859\n",
      "epoch   54 train acc 0.155 loss 0.022 val acc 0.030 loss 0.878\n",
      "epoch   55 train acc 0.175 loss 0.021 val acc 0.040 loss 0.889\n",
      "epoch   56 train acc 0.147 loss 0.017 val acc 0.051 loss 0.904\n",
      "epoch   57 train acc 0.175 loss 0.015 val acc 0.020 loss 0.924\n",
      "epoch   58 train acc 0.188 loss 0.013 val acc 0.030 loss 0.935\n",
      "epoch   59 train acc 0.165 loss 0.014 val acc 0.030 loss 0.944\n",
      "epoch   60 train acc 0.185 loss 0.036 val acc 0.010 loss 0.901\n",
      "epoch   61 train acc 0.177 loss 0.027 val acc 0.040 loss 0.921\n",
      "epoch   62 train acc 0.152 loss 0.021 val acc 0.020 loss 0.947\n",
      "epoch   63 train acc 0.177 loss 0.015 val acc 0.030 loss 0.958\n",
      "epoch   64 train acc 0.147 loss 0.012 val acc 0.030 loss 0.968\n",
      "epoch   65 train acc 0.170 loss 0.009 val acc 0.020 loss 0.986\n",
      "epoch   66 train acc 0.182 loss 0.007 val acc 0.020 loss 0.997\n",
      "epoch   67 train acc 0.155 loss 0.006 val acc 0.020 loss 1.011\n",
      "epoch   68 train acc 0.170 loss 0.005 val acc 0.020 loss 1.020\n",
      "epoch   69 train acc 0.175 loss 0.005 val acc 0.020 loss 1.040\n",
      "epoch   70 train acc 0.170 loss 0.004 val acc 0.020 loss 1.046\n",
      "epoch   71 train acc 0.180 loss 0.004 val acc 0.020 loss 1.063\n",
      "epoch   72 train acc 0.168 loss 0.004 val acc 0.020 loss 1.084\n",
      "epoch   73 train acc 0.195 loss 0.003 val acc 0.030 loss 1.104\n",
      "epoch   74 train acc 0.177 loss 0.041 val acc 0.030 loss 1.054\n",
      "epoch   75 train acc 0.155 loss 0.061 val acc 0.051 loss 1.022\n",
      "epoch   76 train acc 0.155 loss 0.024 val acc 0.030 loss 1.046\n",
      "epoch   77 train acc 0.155 loss 0.010 val acc 0.051 loss 1.056\n",
      "epoch   78 train acc 0.135 loss 0.006 val acc 0.040 loss 1.086\n",
      "epoch   79 train acc 0.130 loss 0.005 val acc 0.051 loss 1.105\n",
      "epoch   80 train acc 0.128 loss 0.004 val acc 0.061 loss 1.107\n",
      "epoch   81 train acc 0.135 loss 0.003 val acc 0.061 loss 1.118\n",
      "epoch   82 train acc 0.138 loss 0.003 val acc 0.081 loss 1.126\n",
      "epoch   83 train acc 0.152 loss 0.003 val acc 0.071 loss 1.135\n",
      "epoch   84 train acc 0.155 loss 0.002 val acc 0.061 loss 1.147\n",
      "epoch   85 train acc 0.147 loss 0.002 val acc 0.061 loss 1.163\n",
      "epoch   86 train acc 0.147 loss 0.002 val acc 0.061 loss 1.166\n",
      "epoch   87 train acc 0.145 loss 0.002 val acc 0.071 loss 1.176\n",
      "epoch   88 train acc 0.150 loss 0.002 val acc 0.071 loss 1.187\n",
      "epoch   89 train acc 0.152 loss 0.002 val acc 0.030 loss 1.209\n",
      "epoch   90 train acc 0.150 loss 0.001 val acc 0.040 loss 1.210\n",
      "epoch   91 train acc 0.165 loss 0.001 val acc 0.030 loss 1.224\n",
      "epoch   92 train acc 0.163 loss 0.001 val acc 0.030 loss 1.235\n",
      "epoch   93 train acc 0.180 loss 0.001 val acc 0.040 loss 1.234\n",
      "epoch   94 train acc 0.188 loss 0.062 val acc 0.020 loss 1.153\n",
      "epoch   95 train acc 0.163 loss 0.053 val acc 0.000 loss 1.158\n",
      "epoch   96 train acc 0.158 loss 0.019 val acc 0.020 loss 1.164\n",
      "epoch   97 train acc 0.158 loss 0.010 val acc 0.020 loss 1.209\n",
      "epoch   98 train acc 0.172 loss 0.005 val acc 0.040 loss 1.216\n",
      "epoch   99 train acc 0.158 loss 0.003 val acc 0.030 loss 1.237\n"
     ]
    }
   ],
   "source": [
    "# 매 에포크마다 훈련과 검증의 손실 및 정확도를 기록하기 위한 변수\n",
    "train_loss = []\n",
    "train_acc = []\n",
    "val_loss = []\n",
    "val_acc = []\n",
    "\n",
    "# 최대 100번 에포크까지 수행\n",
    "for epoch in range(100):\n",
    "\n",
    "    model.reset_states()\n",
    "\n",
    "    batch_train_loss = []\n",
    "    batch_train_acc = []\n",
    "    \n",
    "    for i in range(train_idx[0], train_idx[1]):\n",
    "        \n",
    "        xs = x_samples[i].reshape(1, 1, 45)\n",
    "        ys = y_samples[i].reshape(1, 45)\n",
    "        \n",
    "        loss, acc = model.train_on_batch(xs, ys) #배치만큼 모델에 학습시킴\n",
    "\n",
    "        batch_train_loss.append(loss)\n",
    "        batch_train_acc.append(acc)\n",
    "\n",
    "    train_loss.append(np.mean(batch_train_loss))\n",
    "    train_acc.append(np.mean(batch_train_acc))\n",
    "\n",
    "    batch_val_loss = []\n",
    "    batch_val_acc = []\n",
    "\n",
    "    for i in range(val_idx[0], val_idx[1]):\n",
    "\n",
    "        xs = x_samples[i].reshape(1, 1, 45)\n",
    "        ys = y_samples[i].reshape(1, 45)\n",
    "        \n",
    "        loss, acc = model.test_on_batch(xs, ys) #배치만큼 모델에 입력하여 나온 답을 정답과 비교함\n",
    "        \n",
    "        batch_val_loss.append(loss)\n",
    "        batch_val_acc.append(acc)\n",
    "\n",
    "    val_loss.append(np.mean(batch_val_loss))\n",
    "    val_acc.append(np.mean(batch_val_acc))\n",
    "\n",
    "    print('epoch {0:4d} train acc {1:0.3f} loss {2:0.3f} val acc {3:0.3f} loss {4:0.3f}'.format(epoch, np.mean(batch_train_acc), np.mean(batch_train_loss), np.mean(batch_val_acc), np.mean(batch_val_loss)))"
   ]
  },
  {
   "cell_type": "code",
   "execution_count": 27,
   "metadata": {},
   "outputs": [
    {
     "name": "stdout",
     "output_type": "stream",
     "text": [
      "Collecting matplotlib\n",
      "  Downloading matplotlib-3.7.5-cp38-cp38-win_amd64.whl.metadata (5.8 kB)\n",
      "Collecting contourpy>=1.0.1 (from matplotlib)\n",
      "  Downloading contourpy-1.1.1-cp38-cp38-win_amd64.whl.metadata (5.9 kB)\n",
      "Collecting cycler>=0.10 (from matplotlib)\n",
      "  Downloading cycler-0.12.1-py3-none-any.whl.metadata (3.8 kB)\n",
      "Collecting fonttools>=4.22.0 (from matplotlib)\n",
      "  Downloading fonttools-4.54.1-cp38-cp38-win_amd64.whl.metadata (167 kB)\n",
      "Collecting kiwisolver>=1.0.1 (from matplotlib)\n",
      "  Downloading kiwisolver-1.4.7-cp38-cp38-win_amd64.whl.metadata (6.4 kB)\n",
      "Requirement already satisfied: numpy<2,>=1.20 in c:\\users\\sandg\\appdata\\local\\programs\\python\\python38\\lib\\site-packages (from matplotlib) (1.24.3)\n",
      "Requirement already satisfied: packaging>=20.0 in c:\\users\\sandg\\appdata\\roaming\\python\\python38\\site-packages (from matplotlib) (24.1)\n",
      "Collecting pillow>=6.2.0 (from matplotlib)\n",
      "  Downloading pillow-10.4.0-cp38-cp38-win_amd64.whl.metadata (9.3 kB)\n",
      "Collecting pyparsing>=2.3.1 (from matplotlib)\n",
      "  Downloading pyparsing-3.1.4-py3-none-any.whl.metadata (5.1 kB)\n",
      "Requirement already satisfied: python-dateutil>=2.7 in c:\\users\\sandg\\appdata\\roaming\\python\\python38\\site-packages (from matplotlib) (2.9.0.post0)\n",
      "Collecting importlib-resources>=3.2.0 (from matplotlib)\n",
      "  Downloading importlib_resources-6.4.5-py3-none-any.whl.metadata (4.0 kB)\n",
      "Requirement already satisfied: zipp>=3.1.0 in c:\\users\\sandg\\appdata\\roaming\\python\\python38\\site-packages (from importlib-resources>=3.2.0->matplotlib) (3.20.2)\n",
      "Requirement already satisfied: six>=1.5 in c:\\users\\sandg\\appdata\\local\\programs\\python\\python38\\lib\\site-packages (from python-dateutil>=2.7->matplotlib) (1.16.0)\n",
      "Downloading matplotlib-3.7.5-cp38-cp38-win_amd64.whl (7.5 MB)\n",
      "   ---------------------------------------- 0.0/7.5 MB ? eta -:--:--\n",
      "   ---- ----------------------------------- 0.8/7.5 MB 4.8 MB/s eta 0:00:02\n",
      "   ----------- ---------------------------- 2.1/7.5 MB 5.9 MB/s eta 0:00:01\n",
      "   ------------------- -------------------- 3.7/7.5 MB 6.4 MB/s eta 0:00:01\n",
      "   ---------------------- ----------------- 4.2/7.5 MB 5.2 MB/s eta 0:00:01\n",
      "   -------------------------------- ------- 6.0/7.5 MB 6.0 MB/s eta 0:00:01\n",
      "   ---------------------------------------- 7.5/7.5 MB 6.4 MB/s eta 0:00:00\n",
      "Downloading contourpy-1.1.1-cp38-cp38-win_amd64.whl (477 kB)\n",
      "Downloading cycler-0.12.1-py3-none-any.whl (8.3 kB)\n",
      "Downloading fonttools-4.54.1-cp38-cp38-win_amd64.whl (1.5 MB)\n",
      "   ---------------------------------------- 0.0/1.5 MB ? eta -:--:--\n",
      "   ---------------------------------------- 1.5/1.5 MB 8.2 MB/s eta 0:00:00\n",
      "Downloading importlib_resources-6.4.5-py3-none-any.whl (36 kB)\n",
      "Downloading kiwisolver-1.4.7-cp38-cp38-win_amd64.whl (55 kB)\n",
      "Downloading pillow-10.4.0-cp38-cp38-win_amd64.whl (2.6 MB)\n",
      "   ---------------------------------------- 0.0/2.6 MB ? eta -:--:--\n",
      "   ---------------------------- ----------- 1.8/2.6 MB 10.1 MB/s eta 0:00:01\n",
      "   ---------------------------------------- 2.6/2.6 MB 9.8 MB/s eta 0:00:00\n",
      "Downloading pyparsing-3.1.4-py3-none-any.whl (104 kB)\n",
      "Installing collected packages: pyparsing, pillow, kiwisolver, importlib-resources, fonttools, cycler, contourpy, matplotlib\n",
      "Successfully installed contourpy-1.1.1 cycler-0.12.1 fonttools-4.54.1 importlib-resources-6.4.5 kiwisolver-1.4.7 matplotlib-3.7.5 pillow-10.4.0 pyparsing-3.1.4\n",
      "Note: you may need to restart the kernel to use updated packages.\n"
     ]
    },
    {
     "name": "stderr",
     "output_type": "stream",
     "text": [
      "WARNING: Ignoring invalid distribution -rotobuf (c:\\users\\sandg\\appdata\\local\\programs\\python\\python38\\lib\\site-packages)\n",
      "WARNING: Ignoring invalid distribution -rotobuf (c:\\users\\sandg\\appdata\\local\\programs\\python\\python38\\lib\\site-packages)\n",
      "WARNING: Ignoring invalid distribution -rotobuf (c:\\users\\sandg\\appdata\\local\\programs\\python\\python38\\lib\\site-packages)\n"
     ]
    }
   ],
   "source": [
    "\n",
    "pip install matplotlib"
   ]
  },
  {
   "cell_type": "code",
   "execution_count": 14,
   "metadata": {},
   "outputs": [
    {
     "data": {
      "image/png": "[encoded data removed]",
      "text/plain": [
       "<Figure size 640x480 with 2 Axes>"
      ]
     },
     "metadata": {},
     "output_type": "display_data"
    }
   ],
   "source": [
    "# 그래프로 성능 확인(딥러닝을 학습한다고 해서 검증값은 잘 나오지 않는걸 알 수 있음.)\n",
    "%matplotlib inline\n",
    "import matplotlib.pyplot as plt\n",
    "\n",
    "fig, loss_ax = plt.subplots()\n",
    "\n",
    "acc_ax = loss_ax.twinx()\n",
    "\n",
    "loss_ax.plot(train_loss, 'y', label='train loss')\n",
    "loss_ax.plot(val_loss, 'r', label='val loss')\n",
    "\n",
    "acc_ax.plot(train_acc, 'b', label='train acc')\n",
    "acc_ax.plot(val_acc, 'g', label='val acc')\n",
    "\n",
    "loss_ax.set_xlabel('epoch')\n",
    "loss_ax.set_ylabel('loss')\n",
    "acc_ax.set_ylabel('accuray')\n",
    "\n",
    "loss_ax.legend(loc='upper left')\n",
    "acc_ax.legend(loc='lower left')\n",
    "\n",
    "plt.show()"
   ]
  },
  {
   "cell_type": "code",
   "execution_count": 16,
   "metadata": {},
   "outputs": [],
   "source": [
    "def gen_numbers_from_probability(nums_prob):\n",
    "\n",
    "    ball_box = []\n",
    "\n",
    "    for n in range(45):\n",
    "        ball_count = int(nums_prob[n] * 100 + 1)\n",
    "        ball = np.full((ball_count), n+1) #1부터 시작\n",
    "        ball_box += list(ball)\n",
    "\n",
    "    selected_balls = []\n",
    "\n",
    "    while True:\n",
    "        \n",
    "        if len(selected_balls) == 6:\n",
    "            break\n",
    "        \n",
    "        ball_index = np.random.randint(len(ball_box), size=1)[0]\n",
    "        ball = ball_box[ball_index]\n",
    "\n",
    "        if ball not in selected_balls:\n",
    "            selected_balls.append(ball)\n",
    "\n",
    "    return selected_balls"
   ]
  },
  {
   "cell_type": "code",
   "execution_count": 17,
   "metadata": {},
   "outputs": [
    {
     "name": "stdout",
     "output_type": "stream",
     "text": [
      "epoch    0 train acc 0.139 loss 0.150\n",
      "epoch    1 train acc 0.134 loss 0.219\n",
      "epoch    2 train acc 0.134 loss 0.223\n",
      "epoch    3 train acc 0.138 loss 0.213\n",
      "epoch    4 train acc 0.141 loss 0.202\n",
      "epoch    5 train acc 0.142 loss 0.190\n",
      "epoch    6 train acc 0.143 loss 0.179\n",
      "epoch    7 train acc 0.146 loss 0.169\n",
      "epoch    8 train acc 0.147 loss 0.160\n",
      "epoch    9 train acc 0.147 loss 0.152\n",
      "epoch   10 train acc 0.149 loss 0.144\n",
      "epoch   11 train acc 0.149 loss 0.138\n",
      "epoch   12 train acc 0.149 loss 0.132\n",
      "epoch   13 train acc 0.150 loss 0.126\n",
      "epoch   14 train acc 0.152 loss 0.121\n",
      "epoch   15 train acc 0.154 loss 0.116\n",
      "epoch   16 train acc 0.154 loss 0.112\n",
      "epoch   17 train acc 0.153 loss 0.107\n",
      "epoch   18 train acc 0.154 loss 0.103\n",
      "epoch   19 train acc 0.155 loss 0.100\n",
      "epoch   20 train acc 0.156 loss 0.097\n",
      "epoch   21 train acc 0.156 loss 0.093\n",
      "epoch   22 train acc 0.157 loss 0.090\n",
      "epoch   23 train acc 0.158 loss 0.088\n",
      "epoch   24 train acc 0.159 loss 0.085\n",
      "epoch   25 train acc 0.159 loss 0.083\n",
      "epoch   26 train acc 0.160 loss 0.081\n",
      "epoch   27 train acc 0.160 loss 0.078\n",
      "epoch   28 train acc 0.160 loss 0.076\n",
      "epoch   29 train acc 0.161 loss 0.074\n",
      "epoch   30 train acc 0.161 loss 0.072\n",
      "epoch   31 train acc 0.161 loss 0.070\n",
      "epoch   32 train acc 0.162 loss 0.069\n",
      "epoch   33 train acc 0.162 loss 0.067\n",
      "epoch   34 train acc 0.162 loss 0.066\n",
      "epoch   35 train acc 0.163 loss 0.064\n",
      "epoch   36 train acc 0.163 loss 0.063\n",
      "epoch   37 train acc 0.163 loss 0.061\n",
      "epoch   38 train acc 0.163 loss 0.060\n",
      "epoch   39 train acc 0.163 loss 0.058\n",
      "epoch   40 train acc 0.163 loss 0.057\n",
      "epoch   41 train acc 0.163 loss 0.057\n",
      "epoch   42 train acc 0.163 loss 0.056\n",
      "epoch   43 train acc 0.163 loss 0.055\n",
      "epoch   44 train acc 0.163 loss 0.054\n",
      "epoch   45 train acc 0.163 loss 0.053\n",
      "epoch   46 train acc 0.163 loss 0.052\n",
      "epoch   47 train acc 0.164 loss 0.051\n",
      "epoch   48 train acc 0.164 loss 0.050\n",
      "epoch   49 train acc 0.165 loss 0.049\n",
      "epoch   50 train acc 0.165 loss 0.048\n",
      "epoch   51 train acc 0.165 loss 0.047\n",
      "epoch   52 train acc 0.166 loss 0.047\n",
      "epoch   53 train acc 0.166 loss 0.047\n",
      "epoch   54 train acc 0.166 loss 0.046\n",
      "epoch   55 train acc 0.166 loss 0.045\n",
      "epoch   56 train acc 0.167 loss 0.045\n",
      "epoch   57 train acc 0.167 loss 0.044\n",
      "epoch   58 train acc 0.167 loss 0.043\n",
      "epoch   59 train acc 0.168 loss 0.042\n",
      "epoch   60 train acc 0.168 loss 0.042\n",
      "epoch   61 train acc 0.168 loss 0.041\n",
      "epoch   62 train acc 0.168 loss 0.041\n",
      "epoch   63 train acc 0.169 loss 0.040\n",
      "epoch   64 train acc 0.169 loss 0.039\n",
      "epoch   65 train acc 0.169 loss 0.039\n",
      "epoch   66 train acc 0.169 loss 0.038\n",
      "epoch   67 train acc 0.169 loss 0.038\n",
      "epoch   68 train acc 0.170 loss 0.038\n",
      "epoch   69 train acc 0.170 loss 0.038\n",
      "epoch   70 train acc 0.170 loss 0.037\n",
      "epoch   71 train acc 0.170 loss 0.037\n",
      "epoch   72 train acc 0.170 loss 0.036\n",
      "epoch   73 train acc 0.170 loss 0.036\n",
      "epoch   74 train acc 0.170 loss 0.035\n",
      "epoch   75 train acc 0.170 loss 0.035\n",
      "epoch   76 train acc 0.170 loss 0.035\n",
      "epoch   77 train acc 0.170 loss 0.034\n",
      "epoch   78 train acc 0.170 loss 0.034\n",
      "epoch   79 train acc 0.170 loss 0.033\n",
      "epoch   80 train acc 0.170 loss 0.033\n",
      "epoch   81 train acc 0.171 loss 0.033\n",
      "epoch   82 train acc 0.171 loss 0.033\n",
      "epoch   83 train acc 0.171 loss 0.033\n",
      "epoch   84 train acc 0.171 loss 0.032\n",
      "epoch   85 train acc 0.171 loss 0.032\n",
      "epoch   86 train acc 0.172 loss 0.032\n",
      "epoch   87 train acc 0.172 loss 0.031\n",
      "epoch   88 train acc 0.173 loss 0.031\n",
      "epoch   89 train acc 0.173 loss 0.031\n",
      "epoch   90 train acc 0.173 loss 0.030\n",
      "epoch   91 train acc 0.173 loss 0.030\n",
      "epoch   92 train acc 0.173 loss 0.030\n",
      "epoch   93 train acc 0.174 loss 0.029\n",
      "epoch   94 train acc 0.174 loss 0.029\n",
      "epoch   95 train acc 0.174 loss 0.029\n",
      "epoch   96 train acc 0.174 loss 0.029\n",
      "epoch   97 train acc 0.174 loss 0.029\n",
      "epoch   98 train acc 0.174 loss 0.028\n",
      "epoch   99 train acc 0.174 loss 0.028\n"
     ]
    }
   ],
   "source": [
    "#검증셋 없이 모든 데이터를 다시 훈련시킨다.\n",
    "# 최대 100번 에포크까지 수행\n",
    "for epoch in range(100):\n",
    "\n",
    "    model.reset_states() # 중요! 매 에포크마다 1회부터 다시 훈련하므로 상태 초기화 필요\n",
    "\n",
    "    for i in range(len(x_samples)):\n",
    "        \n",
    "        xs = x_samples[i].reshape(1, 1, 45)\n",
    "        ys = y_samples[i].reshape(1, 45)\n",
    "        \n",
    "        loss, acc = model.train_on_batch(xs, ys) #배치만큼 모델에 학습시킴\n",
    "\n",
    "        batch_train_loss.append(loss)\n",
    "        batch_train_acc.append(acc)\n",
    "\n",
    "    train_loss.append(np.mean(batch_train_loss))\n",
    "    train_acc.append(np.mean(batch_train_acc))\n",
    "\n",
    "    print('epoch {0:4d} train acc {1:0.3f} loss {2:0.3f}'.format(epoch, np.mean(batch_train_acc), np.mean(batch_train_loss)))\n"
   ]
  },
  {
   "cell_type": "code",
   "execution_count": 18,
   "metadata": {},
   "outputs": [
    {
     "name": "stdout",
     "output_type": "stream",
     "text": [
      "receive numbers\n",
      "1 : [2, 3, 5, 7, 11, 37]\n",
      "2 : [2, 7, 23, 30, 33, 40]\n",
      "3 : [2, 5, 7, 11, 21, 33]\n",
      "4 : [2, 7, 11, 17, 21, 33]\n",
      "5 : [2, 6, 7, 33, 38, 42]\n",
      "6 : [2, 5, 7, 23, 33, 44]\n",
      "7 : [2, 3, 7, 25, 33, 38]\n",
      "8 : [2, 7, 11, 12, 14, 33]\n",
      "9 : [2, 3, 5, 7, 21, 33]\n",
      "10 : [2, 3, 7, 11, 25, 33]\n"
     ]
    }
   ],
   "source": [
    "# 마지막 회차까지 학습한 모델로 다음 회차 추론\n",
    "\n",
    "print('receive numbers')\n",
    "\n",
    "xs = x_samples[-1].reshape(1, 1, 45)\n",
    "\n",
    "ys_pred = model.predict_on_batch(xs)\n",
    "\n",
    "list_numbers = []\n",
    "\n",
    "for n in range(10):\n",
    "    numbers = gen_numbers_from_probability(ys_pred[0])\n",
    "    numbers.sort()\n",
    "    print('{0} : {1}'.format(n+1, numbers))\n",
    "    list_numbers.append(numbers)"
   ]
  }
 ],
 "metadata": {
  "kernelspec": {
   "display_name": "Python 3",
   "language": "python",
   "name": "python3"
  },
  "language_info": {
   "codemirror_mode": {
    "name": "ipython",
    "version": 3
   },
   "file_extension": ".py",
   "mimetype": "text/x-python",
   "name": "python",
   "nbconvert_exporter": "python",
   "pygments_lexer": "ipython3",
   "version": "3.8.2rc1"
  }
 },
 "nbformat": 4,
 "nbformat_minor": 2
}
