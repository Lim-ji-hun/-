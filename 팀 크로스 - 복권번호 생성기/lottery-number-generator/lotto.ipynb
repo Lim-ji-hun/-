{
 "cells": [
  {
   "cell_type": "code",
   "execution_count": 1,
   "metadata": {},
   "outputs": [
    {
     "name": "stdout",
     "output_type": "stream",
     "text": [
      "Requirement already satisfied: numpy in c:\\users\\home\\appdata\\local\\programs\\python\\python38\\lib\\site-packages (1.24.3)\n",
      "Note: you may need to restart the kernel to use updated packages.\n"
     ]
    }
   ],
   "source": [
    "pip install numpy"
   ]
  },
  {
   "cell_type": "code",
   "execution_count": 2,
   "metadata": {},
   "outputs": [
    {
     "name": "stderr",
     "output_type": "stream",
     "text": [
      "'pip'��(��) ���� �Ǵ� �ܺ� ����, ������ �� �ִ� ���α׷�, �Ǵ�\n",
      "��ġ ������ �ƴմϴ�.\n"
     ]
    }
   ],
   "source": [
    "from __future__ import absolute_import, division, print_function, unicode_literals\n",
    "# !pip install tensorflow-gpu==2.0.0-rc1\n",
    "!pip install 'h5py==2.10.0' --force-reinstall"
   ]
  },
  {
   "cell_type": "code",
   "execution_count": 3,
   "metadata": {},
   "outputs": [
    {
     "name": "stdout",
     "output_type": "stream",
     "text": [
      "Requirement already satisfied: mysql-connector-python in c:\\users\\home\\appdata\\local\\programs\\python\\python38\\lib\\site-packages (9.0.0)\n",
      "Note: you may need to restart the kernel to use updated packages.\n"
     ]
    }
   ],
   "source": [
    "pip install mysql-connector-python"
   ]
  },
  {
   "cell_type": "code",
   "execution_count": 4,
   "metadata": {},
   "outputs": [
    {
     "name": "stdout",
     "output_type": "stream",
     "text": [
      "537\n"
     ]
    }
   ],
   "source": [
    "import mysql.connector\n",
    "import numpy as np\n",
    "\n",
    "# 데이터베이스 연결 설정\n",
    "db_connection = mysql.connector.connect(\n",
    "    host='localhost',\n",
    "    user='root',\n",
    "    password='0252',\n",
    "    database='lotto'\n",
    ")\n",
    "\n",
    "# 커서 생성\n",
    "cursor = db_connection.cursor()\n",
    "\n",
    "# SQL 쿼리 실행 (lotto 테이블에서 모든 데이터 가져오기)\n",
    "cursor.execute(\"SELECT * FROM lotto\")\n",
    "results = cursor.fetchall()\n",
    "\n",
    "# numpy 배열로 변환\n",
    "rows = np.array(results)\n",
    "\n",
    "# 행 개수 출력\n",
    "row_count = len(rows)\n",
    "print(row_count)\n",
    "\n"
   ]
  },
  {
   "cell_type": "code",
   "execution_count": 5,
   "metadata": {},
   "outputs": [],
   "source": [
    "import numpy as np\n",
    "\n",
    "\n",
    "def numbers2ohbin(numbers):\n",
    "\n",
    "    ohbin = np.zeros(45) #45개의 빈 칸을 만듬\n",
    "\n",
    "    for i in range(6): #여섯개의 당첨번호에 대해서 반복함\n",
    "        ohbin[int(numbers[i])-1] = 1 #로또번호가 1부터 시작하지만 벡터의 인덱스 시작은 0부터 시작하므로 1을 뺌\n",
    "    \n",
    "    return ohbin\n",
    "\n",
    "#원핫인코딩으로 변환\n",
    "def ohbin2numbers(ohbin):\n",
    "\n",
    "    numbers = []\n",
    "    \n",
    "    for i in range(len(ohbin)):\n",
    "        if ohbin[i] == 1.0: # 1.0으로 설정되어 있으면 해당 번호를 반환값에 추가한다.\n",
    "            numbers.append(i+1)\n",
    "    \n",
    "    return numbers"
   ]
  },
  {
   "cell_type": "code",
   "execution_count": 6,
   "metadata": {},
   "outputs": [
    {
     "name": "stdout",
     "output_type": "stream",
     "text": [
      "ohbins\n",
      "X[0]: [0. 1. 0. 0. 0. 0. 0. 0. 0. 0. 0. 0. 0. 0. 0. 1. 0. 0. 1. 0. 0. 0. 0. 0.\n",
      " 0. 0. 0. 0. 0. 0. 1. 0. 0. 1. 1. 0. 0. 0. 0. 0. 0. 0. 0. 0. 0.]\n",
      "Y[0]: [0. 0. 0. 0. 0. 0. 0. 0. 0. 0. 0. 0. 1. 1. 0. 0. 0. 0. 0. 0. 0. 1. 0. 0.\n",
      " 0. 0. 1. 0. 0. 1. 0. 0. 0. 0. 0. 0. 0. 1. 0. 0. 0. 0. 0. 0. 0.]\n",
      "numbers\n",
      "X[0]: [2, 16, 19, 31, 34, 35]\n",
      "Y[0]: [13, 14, 22, 27, 30, 38]\n"
     ]
    }
   ],
   "source": [
    "numbers = rows[:, 1:7]\n",
    "ohbins = list(map(numbers2ohbin, numbers))\n",
    "\n",
    "x_samples = ohbins[0:row_count-1]\n",
    "y_samples = ohbins[1:row_count]\n",
    "\n",
    "#원핫인코딩으로 표시\n",
    "print(\"ohbins\")\n",
    "print(\"X[0]: \" + str(x_samples[0]))\n",
    "print(\"Y[0]: \" + str(y_samples[0]))\n",
    "\n",
    "#번호로 표시\n",
    "print(\"numbers\")\n",
    "print(\"X[0]: \" + str(ohbin2numbers(x_samples[0])))\n",
    "print(\"Y[0]: \" + str(ohbin2numbers(y_samples[0])))"
   ]
  },
  {
   "cell_type": "code",
   "execution_count": 7,
   "metadata": {},
   "outputs": [
    {
     "name": "stdout",
     "output_type": "stream",
     "text": [
      "Requirement already satisfied: tensorflow in c:\\users\\home\\appdata\\local\\programs\\python\\python38\\lib\\site-packages (2.13.0)\n",
      "Requirement already satisfied: tensorflow-intel==2.13.0 in c:\\users\\home\\appdata\\local\\programs\\python\\python38\\lib\\site-packages (from tensorflow) (2.13.0)\n",
      "Requirement already satisfied: absl-py>=1.0.0 in c:\\users\\home\\appdata\\local\\programs\\python\\python38\\lib\\site-packages (from tensorflow-intel==2.13.0->tensorflow) (2.1.0)\n",
      "Requirement already satisfied: astunparse>=1.6.0 in c:\\users\\home\\appdata\\local\\programs\\python\\python38\\lib\\site-packages (from tensorflow-intel==2.13.0->tensorflow) (1.6.3)\n",
      "Requirement already satisfied: flatbuffers>=23.1.21 in c:\\users\\home\\appdata\\local\\programs\\python\\python38\\lib\\site-packages (from tensorflow-intel==2.13.0->tensorflow) (24.3.25)\n",
      "Requirement already satisfied: gast<=0.4.0,>=0.2.1 in c:\\users\\home\\appdata\\local\\programs\\python\\python38\\lib\\site-packages (from tensorflow-intel==2.13.0->tensorflow) (0.4.0)\n",
      "Requirement already satisfied: google-pasta>=0.1.1 in c:\\users\\home\\appdata\\local\\programs\\python\\python38\\lib\\site-packages (from tensorflow-intel==2.13.0->tensorflow) (0.2.0)\n",
      "Requirement already satisfied: h5py>=2.9.0 in c:\\users\\home\\appdata\\local\\programs\\python\\python38\\lib\\site-packages (from tensorflow-intel==2.13.0->tensorflow) (3.11.0)\n",
      "Requirement already satisfied: libclang>=13.0.0 in c:\\users\\home\\appdata\\local\\programs\\python\\python38\\lib\\site-packages (from tensorflow-intel==2.13.0->tensorflow) (18.1.1)\n",
      "Requirement already satisfied: numpy<=1.24.3,>=1.22 in c:\\users\\home\\appdata\\local\\programs\\python\\python38\\lib\\site-packages (from tensorflow-intel==2.13.0->tensorflow) (1.24.3)\n",
      "Requirement already satisfied: opt-einsum>=2.3.2 in c:\\users\\home\\appdata\\local\\programs\\python\\python38\\lib\\site-packages (from tensorflow-intel==2.13.0->tensorflow) (3.4.0)\n",
      "Requirement already satisfied: packaging in c:\\users\\home\\appdata\\roaming\\python\\python38\\site-packages (from tensorflow-intel==2.13.0->tensorflow) (24.1)\n",
      "Requirement already satisfied: protobuf!=4.21.0,!=4.21.1,!=4.21.2,!=4.21.3,!=4.21.4,!=4.21.5,<5.0.0dev,>=3.20.3 in c:\\users\\home\\appdata\\local\\programs\\python\\python38\\lib\\site-packages (from tensorflow-intel==2.13.0->tensorflow) (4.25.5)\n",
      "Requirement already satisfied: setuptools in c:\\users\\home\\appdata\\local\\programs\\python\\python38\\lib\\site-packages (from tensorflow-intel==2.13.0->tensorflow) (41.2.0)\n",
      "Requirement already satisfied: six>=1.12.0 in c:\\users\\home\\appdata\\roaming\\python\\python38\\site-packages (from tensorflow-intel==2.13.0->tensorflow) (1.16.0)\n",
      "Requirement already satisfied: termcolor>=1.1.0 in c:\\users\\home\\appdata\\local\\programs\\python\\python38\\lib\\site-packages (from tensorflow-intel==2.13.0->tensorflow) (2.4.0)\n",
      "Requirement already satisfied: typing-extensions<4.6.0,>=3.6.6 in c:\\users\\home\\appdata\\local\\programs\\python\\python38\\lib\\site-packages (from tensorflow-intel==2.13.0->tensorflow) (4.5.0)\n",
      "Requirement already satisfied: wrapt>=1.11.0 in c:\\users\\home\\appdata\\local\\programs\\python\\python38\\lib\\site-packages (from tensorflow-intel==2.13.0->tensorflow) (1.16.0)\n",
      "Requirement already satisfied: grpcio<2.0,>=1.24.3 in c:\\users\\home\\appdata\\local\\programs\\python\\python38\\lib\\site-packages (from tensorflow-intel==2.13.0->tensorflow) (1.66.2)\n",
      "Requirement already satisfied: tensorboard<2.14,>=2.13 in c:\\users\\home\\appdata\\local\\programs\\python\\python38\\lib\\site-packages (from tensorflow-intel==2.13.0->tensorflow) (2.13.0)\n",
      "Requirement already satisfied: tensorflow-estimator<2.14,>=2.13.0 in c:\\users\\home\\appdata\\local\\programs\\python\\python38\\lib\\site-packages (from tensorflow-intel==2.13.0->tensorflow) (2.13.0)\n",
      "Requirement already satisfied: keras<2.14,>=2.13.1 in c:\\users\\home\\appdata\\local\\programs\\python\\python38\\lib\\site-packages (from tensorflow-intel==2.13.0->tensorflow) (2.13.1)\n",
      "Requirement already satisfied: tensorflow-io-gcs-filesystem>=0.23.1 in c:\\users\\home\\appdata\\local\\programs\\python\\python38\\lib\\site-packages (from tensorflow-intel==2.13.0->tensorflow) (0.31.0)\n",
      "Requirement already satisfied: wheel<1.0,>=0.23.0 in c:\\users\\home\\appdata\\local\\programs\\python\\python38\\lib\\site-packages (from astunparse>=1.6.0->tensorflow-intel==2.13.0->tensorflow) (0.44.0)\n",
      "Requirement already satisfied: google-auth<3,>=1.6.3 in c:\\users\\home\\appdata\\local\\programs\\python\\python38\\lib\\site-packages (from tensorboard<2.14,>=2.13->tensorflow-intel==2.13.0->tensorflow) (2.35.0)\n",
      "Requirement already satisfied: google-auth-oauthlib<1.1,>=0.5 in c:\\users\\home\\appdata\\local\\programs\\python\\python38\\lib\\site-packages (from tensorboard<2.14,>=2.13->tensorflow-intel==2.13.0->tensorflow) (1.0.0)\n",
      "Requirement already satisfied: markdown>=2.6.8 in c:\\users\\home\\appdata\\local\\programs\\python\\python38\\lib\\site-packages (from tensorboard<2.14,>=2.13->tensorflow-intel==2.13.0->tensorflow) (3.7)\n",
      "Requirement already satisfied: requests<3,>=2.21.0 in c:\\users\\home\\appdata\\local\\programs\\python\\python38\\lib\\site-packages (from tensorboard<2.14,>=2.13->tensorflow-intel==2.13.0->tensorflow) (2.32.3)\n",
      "Requirement already satisfied: tensorboard-data-server<0.8.0,>=0.7.0 in c:\\users\\home\\appdata\\local\\programs\\python\\python38\\lib\\site-packages (from tensorboard<2.14,>=2.13->tensorflow-intel==2.13.0->tensorflow) (0.7.2)\n",
      "Requirement already satisfied: werkzeug>=1.0.1 in c:\\users\\home\\appdata\\local\\programs\\python\\python38\\lib\\site-packages (from tensorboard<2.14,>=2.13->tensorflow-intel==2.13.0->tensorflow) (3.0.4)\n",
      "Requirement already satisfied: cachetools<6.0,>=2.0.0 in c:\\users\\home\\appdata\\local\\programs\\python\\python38\\lib\\site-packages (from google-auth<3,>=1.6.3->tensorboard<2.14,>=2.13->tensorflow-intel==2.13.0->tensorflow) (5.5.0)\n",
      "Requirement already satisfied: pyasn1-modules>=0.2.1 in c:\\users\\home\\appdata\\local\\programs\\python\\python38\\lib\\site-packages (from google-auth<3,>=1.6.3->tensorboard<2.14,>=2.13->tensorflow-intel==2.13.0->tensorflow) (0.4.1)\n",
      "Requirement already satisfied: rsa<5,>=3.1.4 in c:\\users\\home\\appdata\\local\\programs\\python\\python38\\lib\\site-packages (from google-auth<3,>=1.6.3->tensorboard<2.14,>=2.13->tensorflow-intel==2.13.0->tensorflow) (4.9)\n",
      "Requirement already satisfied: requests-oauthlib>=0.7.0 in c:\\users\\home\\appdata\\local\\programs\\python\\python38\\lib\\site-packages (from google-auth-oauthlib<1.1,>=0.5->tensorboard<2.14,>=2.13->tensorflow-intel==2.13.0->tensorflow) (2.0.0)\n",
      "Requirement already satisfied: importlib-metadata>=4.4 in c:\\users\\home\\appdata\\roaming\\python\\python38\\site-packages (from markdown>=2.6.8->tensorboard<2.14,>=2.13->tensorflow-intel==2.13.0->tensorflow) (8.5.0)\n",
      "Requirement already satisfied: charset-normalizer<4,>=2 in c:\\users\\home\\appdata\\local\\programs\\python\\python38\\lib\\site-packages (from requests<3,>=2.21.0->tensorboard<2.14,>=2.13->tensorflow-intel==2.13.0->tensorflow) (3.3.2)\n",
      "Requirement already satisfied: idna<4,>=2.5 in c:\\users\\home\\appdata\\local\\programs\\python\\python38\\lib\\site-packages (from requests<3,>=2.21.0->tensorboard<2.14,>=2.13->tensorflow-intel==2.13.0->tensorflow) (3.10)\n",
      "Requirement already satisfied: urllib3<3,>=1.21.1 in c:\\users\\home\\appdata\\local\\programs\\python\\python38\\lib\\site-packages (from requests<3,>=2.21.0->tensorboard<2.14,>=2.13->tensorflow-intel==2.13.0->tensorflow) (2.2.3)\n",
      "Requirement already satisfied: certifi>=2017.4.17 in c:\\users\\home\\appdata\\local\\programs\\python\\python38\\lib\\site-packages (from requests<3,>=2.21.0->tensorboard<2.14,>=2.13->tensorflow-intel==2.13.0->tensorflow) (2024.8.30)\n",
      "Requirement already satisfied: MarkupSafe>=2.1.1 in c:\\users\\home\\appdata\\local\\programs\\python\\python38\\lib\\site-packages (from werkzeug>=1.0.1->tensorboard<2.14,>=2.13->tensorflow-intel==2.13.0->tensorflow) (2.1.5)\n",
      "Requirement already satisfied: zipp>=3.20 in c:\\users\\home\\appdata\\roaming\\python\\python38\\site-packages (from importlib-metadata>=4.4->markdown>=2.6.8->tensorboard<2.14,>=2.13->tensorflow-intel==2.13.0->tensorflow) (3.20.2)\n",
      "Requirement already satisfied: pyasn1<0.7.0,>=0.4.6 in c:\\users\\home\\appdata\\local\\programs\\python\\python38\\lib\\site-packages (from pyasn1-modules>=0.2.1->google-auth<3,>=1.6.3->tensorboard<2.14,>=2.13->tensorflow-intel==2.13.0->tensorflow) (0.6.1)\n",
      "Requirement already satisfied: oauthlib>=3.0.0 in c:\\users\\home\\appdata\\local\\programs\\python\\python38\\lib\\site-packages (from requests-oauthlib>=0.7.0->google-auth-oauthlib<1.1,>=0.5->tensorboard<2.14,>=2.13->tensorflow-intel==2.13.0->tensorflow) (3.2.2)\n",
      "Note: you may need to restart the kernel to use updated packages.\n"
     ]
    }
   ],
   "source": [
    "pip install tensorflow\n"
   ]
  },
  {
   "cell_type": "code",
   "execution_count": 8,
   "metadata": {},
   "outputs": [
    {
     "name": "stdout",
     "output_type": "stream",
     "text": [
      "2.13.0\n"
     ]
    }
   ],
   "source": [
    "import tensorflow as tf\n",
    "\n",
    "# TensorFlow 버전 출력\n",
    "print(tf.__version__)\n"
   ]
  },
  {
   "cell_type": "code",
   "execution_count": 9,
   "metadata": {},
   "outputs": [],
   "source": [
    "train_idx = (0, 400) #훈련\n",
    "val_idx = (401, 500) #검증\n",
    "test_idx = (501, len(x_samples)) #시험"
   ]
  },
  {
   "cell_type": "code",
   "execution_count": 10,
   "metadata": {},
   "outputs": [],
   "source": [
    "import tensorflow as tf\n",
    "from tensorflow import keras\n",
    "from tensorflow.keras import layers\n",
    "from tensorflow.keras import models\n",
    "\n",
    "# 모델을 정의합니다.\n",
    "model = keras.Sequential([\n",
    "    keras.layers.LSTM(128, batch_input_shape=(1, 1, 45), return_sequences=False, stateful=True),\n",
    "    keras.layers.Dense(45, activation='sigmoid')\n",
    "])\n",
    "\n",
    "# 모델을 컴파일합니다.\n",
    "model.compile(loss='binary_crossentropy', optimizer='adam', metrics=['accuracy'])"
   ]
  },
  {
   "cell_type": "code",
   "execution_count": 11,
   "metadata": {},
   "outputs": [
    {
     "name": "stdout",
     "output_type": "stream",
     "text": [
      "epoch    0 train acc 0.037 loss 0.418 val acc 0.040 loss 0.399\n"
     ]
    }
   ],
   "source": [
    "# 매 에포크마다 훈련과 검증의 손실 및 정확도를 기록하기 위한 변수\n",
    "train_loss = []\n",
    "train_acc = []\n",
    "val_loss = []\n",
    "val_acc = []\n",
    "\n",
    "# 최대 100번 에포크까지 수행\n",
    "#for epoch in range(100):\n",
    "for epoch in range(1):\n",
    "\n",
    "    model.reset_states()\n",
    "\n",
    "    batch_train_loss = []\n",
    "    batch_train_acc = []\n",
    "    \n",
    "    for i in range(train_idx[0], train_idx[1]):\n",
    "        \n",
    "        xs = x_samples[i].reshape(1, 1, 45)\n",
    "        ys = y_samples[i].reshape(1, 45)\n",
    "        \n",
    "        loss, acc = model.train_on_batch(xs, ys) #배치만큼 모델에 학습시킴\n",
    "\n",
    "        batch_train_loss.append(loss)\n",
    "        batch_train_acc.append(acc)\n",
    "\n",
    "    train_loss.append(np.mean(batch_train_loss))\n",
    "    train_acc.append(np.mean(batch_train_acc))\n",
    "\n",
    "    batch_val_loss = []\n",
    "    batch_val_acc = []\n",
    "\n",
    "    for i in range(val_idx[0], val_idx[1]):\n",
    "\n",
    "        xs = x_samples[i].reshape(1, 1, 45)\n",
    "        ys = y_samples[i].reshape(1, 45)\n",
    "        \n",
    "        loss, acc = model.test_on_batch(xs, ys) #배치만큼 모델에 입력하여 나온 답을 정답과 비교함\n",
    "        \n",
    "        batch_val_loss.append(loss)\n",
    "        batch_val_acc.append(acc)\n",
    "\n",
    "    val_loss.append(np.mean(batch_val_loss))\n",
    "    val_acc.append(np.mean(batch_val_acc))\n",
    "\n",
    "    print('epoch {0:4d} train acc {1:0.3f} loss {2:0.3f} val acc {3:0.3f} loss {4:0.3f}'.format(epoch, np.mean(batch_train_acc), np.mean(batch_train_loss), np.mean(batch_val_acc), np.mean(batch_val_loss)))"
   ]
  },
  {
   "cell_type": "code",
   "execution_count": 12,
   "metadata": {},
   "outputs": [],
   "source": [
    "def gen_numbers_from_probability(nums_prob):\n",
    "\n",
    "    ball_box = []\n",
    "\n",
    "    for n in range(45):\n",
    "        ball_count = int(nums_prob[n] * 100 + 1)\n",
    "        ball = np.full((ball_count), n+1) #1부터 시작\n",
    "        ball_box += list(ball)\n",
    "\n",
    "    selected_balls = []\n",
    "\n",
    "    while True:\n",
    "        \n",
    "        if len(selected_balls) == 6:\n",
    "            break\n",
    "        \n",
    "        ball_index = np.random.randint(len(ball_box), size=1)[0]\n",
    "        ball = ball_box[ball_index]\n",
    "\n",
    "        if ball not in selected_balls:\n",
    "            selected_balls.append(ball)\n",
    "\n",
    "    return selected_balls"
   ]
  },
  {
   "cell_type": "code",
   "execution_count": 13,
   "metadata": {},
   "outputs": [
    {
     "name": "stdout",
     "output_type": "stream",
     "text": [
      "epoch    0 train acc 0.032 loss 0.406\n"
     ]
    }
   ],
   "source": [
    "#검증셋 없이 모든 데이터를 다시 훈련시킨다.\n",
    "# 최대 100번 에포크까지 수행\n",
    "#for epoch in range(100):\n",
    "for epoch in range(1):\n",
    "\n",
    "    model.reset_states() # 중요! 매 에포크마다 1회부터 다시 훈련하므로 상태 초기화 필요\n",
    "\n",
    "    for i in range(len(x_samples)):\n",
    "        \n",
    "        xs = x_samples[i].reshape(1, 1, 45)\n",
    "        ys = y_samples[i].reshape(1, 45)\n",
    "        \n",
    "        loss, acc = model.train_on_batch(xs, ys) #배치만큼 모델에 학습시킴\n",
    "\n",
    "        batch_train_loss.append(loss)\n",
    "        batch_train_acc.append(acc)\n",
    "\n",
    "    train_loss.append(np.mean(batch_train_loss))\n",
    "    train_acc.append(np.mean(batch_train_acc))\n",
    "\n",
    "    print('epoch {0:4d} train acc {1:0.3f} loss {2:0.3f}'.format(epoch, np.mean(batch_train_acc), np.mean(batch_train_loss)))\n"
   ]
  },
  {
   "cell_type": "code",
   "execution_count": 14,
   "metadata": {},
   "outputs": [
    {
     "name": "stdout",
     "output_type": "stream",
     "text": [
      "receive numbers\n",
      "0 : [9, 13, 18, 24, 30, 39]\n",
      "1 : [8, 21, 22, 28, 44, 45]\n",
      "2 : [4, 7, 8, 20, 22, 37]\n",
      "3 : [3, 6, 12, 25, 28, 35]\n",
      "4 : [4, 13, 19, 21, 22, 41]\n",
      "5 : [7, 18, 19, 24, 32, 39]\n",
      "6 : [16, 23, 30, 31, 33, 35]\n",
      "7 : [10, 13, 15, 24, 25, 40]\n",
      "8 : [11, 20, 23, 31, 34, 40]\n",
      "9 : [10, 16, 24, 27, 34, 44]\n"
     ]
    }
   ],
   "source": [
    "# 마지막 회차까지 학습한 모델로 다음 회차 추론\n",
    "\n",
    "print('receive numbers')\n",
    "\n",
    "xs = x_samples[-1].reshape(1, 1, 45)\n",
    "\n",
    "ys_pred = model.predict_on_batch(xs)\n",
    "\n",
    "list_numbers = []\n",
    "\n",
    "for n in range(10):\n",
    "    numbers = gen_numbers_from_probability(ys_pred[0])\n",
    "    numbers.sort()\n",
    "    print('{0} : {1}'.format(n, numbers))\n",
    "    list_numbers.append(numbers)"
   ]
  },
  {
   "cell_type": "code",
   "execution_count": 15,
   "metadata": {},
   "outputs": [
    {
     "name": "stdout",
     "output_type": "stream",
     "text": [
      "receive numbers\n",
      "0 : [10, 16, 20, 22, 44, 45]\n",
      "1 : [8, 24, 29, 33, 35, 37]\n",
      "2 : [13, 14, 19, 26, 36, 44]\n",
      "3 : [4, 6, 16, 30, 38, 41]\n",
      "4 : [4, 9, 16, 20, 40, 45]\n",
      "5 : [12, 15, 33, 37, 40, 44]\n",
      "6 : [1, 4, 9, 28, 39, 44]\n",
      "7 : [14, 17, 32, 33, 34, 45]\n",
      "8 : [6, 19, 30, 32, 38, 44]\n",
      "9 : [10, 15, 17, 28, 43, 44]\n",
      "모든 결과: [[10, 16, 20, 22, 44, 45], [8, 24, 29, 33, 35, 37], [13, 14, 19, 26, 36, 44], [4, 6, 16, 30, 38, 41], [4, 9, 16, 20, 40, 45], [12, 15, 33, 37, 40, 44], [1, 4, 9, 28, 39, 44], [14, 17, 32, 33, 34, 45], [6, 19, 30, 32, 38, 44], [10, 15, 17, 28, 43, 44]]\n"
     ]
    }
   ],
   "source": [
    "# 결과값을 하나의 변수에 저장\n",
    "all_results = []\n",
    "\n",
    "print('receive numbers')\n",
    "\n",
    "xs = x_samples[-1].reshape(1, 1, 45)\n",
    "\n",
    "ys_pred = model.predict_on_batch(xs)\n",
    "\n",
    "for n in range(10):\n",
    "    numbers = gen_numbers_from_probability(ys_pred[0])\n",
    "    numbers.sort()\n",
    "    print('{0} : {1}'.format(n, numbers))\n",
    "    all_results.append(numbers)\n",
    "\n",
    "# 결과값을 출력\n",
    "print(\"모든 결과:\", all_results)\n"
   ]
  },
  {
   "cell_type": "code",
   "execution_count": 16,
   "metadata": {},
   "outputs": [
    {
     "name": "stderr",
     "output_type": "stream",
     "text": [
      "'pip'��(��) ���� �Ǵ� �ܺ� ����, ������ �� �ִ� ���α׷�, �Ǵ�\n",
      "��ġ ������ �ƴմϴ�.\n",
      "'pip'��(��) ���� �Ǵ� �ܺ� ����, ������ �� �ִ� ���α׷�, �Ǵ�\n",
      "��ġ ������ �ƴմϴ�.\n"
     ]
    }
   ],
   "source": [
    "!pip install flask\n",
    "!pip install flask-cors"
   ]
  },
  {
   "cell_type": "code",
   "execution_count": 17,
   "metadata": {},
   "outputs": [
    {
     "name": "stdout",
     "output_type": "stream",
     "text": [
      "Requirement already satisfied: flask in c:\\users\\home\\appdata\\local\\programs\\python\\python38\\lib\\site-packages (3.0.3)\n",
      "Requirement already satisfied: flask-cors in c:\\users\\home\\appdata\\local\\programs\\python\\python38\\lib\\site-packages (5.0.0)\n",
      "Requirement already satisfied: Werkzeug>=3.0.0 in c:\\users\\home\\appdata\\local\\programs\\python\\python38\\lib\\site-packages (from flask) (3.0.4)\n",
      "Requirement already satisfied: Jinja2>=3.1.2 in c:\\users\\home\\appdata\\local\\programs\\python\\python38\\lib\\site-packages (from flask) (3.1.4)\n",
      "Requirement already satisfied: itsdangerous>=2.1.2 in c:\\users\\home\\appdata\\local\\programs\\python\\python38\\lib\\site-packages (from flask) (2.2.0)\n",
      "Requirement already satisfied: click>=8.1.3 in c:\\users\\home\\appdata\\local\\programs\\python\\python38\\lib\\site-packages (from flask) (8.1.7)\n",
      "Requirement already satisfied: blinker>=1.6.2 in c:\\users\\home\\appdata\\local\\programs\\python\\python38\\lib\\site-packages (from flask) (1.8.2)\n",
      "Requirement already satisfied: importlib-metadata>=3.6.0 in c:\\users\\home\\appdata\\roaming\\python\\python38\\site-packages (from flask) (8.5.0)\n",
      "Requirement already satisfied: colorama in c:\\users\\home\\appdata\\roaming\\python\\python38\\site-packages (from click>=8.1.3->flask) (0.4.6)\n",
      "Requirement already satisfied: zipp>=3.20 in c:\\users\\home\\appdata\\roaming\\python\\python38\\site-packages (from importlib-metadata>=3.6.0->flask) (3.20.2)\n",
      "Requirement already satisfied: MarkupSafe>=2.0 in c:\\users\\home\\appdata\\local\\programs\\python\\python38\\lib\\site-packages (from Jinja2>=3.1.2->flask) (2.1.5)\n",
      "Note: you may need to restart the kernel to use updated packages.\n"
     ]
    }
   ],
   "source": [
    "pip install flask flask-cors\n"
   ]
  },
  {
   "cell_type": "code",
   "execution_count": 18,
   "metadata": {},
   "outputs": [
    {
     "name": "stdout",
     "output_type": "stream",
     "text": [
      "Requirement already satisfied: flask-cors in c:\\users\\home\\appdata\\local\\programs\\python\\python38\\lib\\site-packages (5.0.0)\n",
      "Requirement already satisfied: Flask>=0.9 in c:\\users\\home\\appdata\\local\\programs\\python\\python38\\lib\\site-packages (from flask-cors) (3.0.3)\n",
      "Requirement already satisfied: Werkzeug>=3.0.0 in c:\\users\\home\\appdata\\local\\programs\\python\\python38\\lib\\site-packages (from Flask>=0.9->flask-cors) (3.0.4)\n",
      "Requirement already satisfied: Jinja2>=3.1.2 in c:\\users\\home\\appdata\\local\\programs\\python\\python38\\lib\\site-packages (from Flask>=0.9->flask-cors) (3.1.4)\n",
      "Requirement already satisfied: itsdangerous>=2.1.2 in c:\\users\\home\\appdata\\local\\programs\\python\\python38\\lib\\site-packages (from Flask>=0.9->flask-cors) (2.2.0)\n",
      "Requirement already satisfied: click>=8.1.3 in c:\\users\\home\\appdata\\local\\programs\\python\\python38\\lib\\site-packages (from Flask>=0.9->flask-cors) (8.1.7)\n",
      "Requirement already satisfied: blinker>=1.6.2 in c:\\users\\home\\appdata\\local\\programs\\python\\python38\\lib\\site-packages (from Flask>=0.9->flask-cors) (1.8.2)\n",
      "Requirement already satisfied: importlib-metadata>=3.6.0 in c:\\users\\home\\appdata\\roaming\\python\\python38\\site-packages (from Flask>=0.9->flask-cors) (8.5.0)\n",
      "Requirement already satisfied: colorama in c:\\users\\home\\appdata\\roaming\\python\\python38\\site-packages (from click>=8.1.3->Flask>=0.9->flask-cors) (0.4.6)\n",
      "Requirement already satisfied: zipp>=3.20 in c:\\users\\home\\appdata\\roaming\\python\\python38\\site-packages (from importlib-metadata>=3.6.0->Flask>=0.9->flask-cors) (3.20.2)\n",
      "Requirement already satisfied: MarkupSafe>=2.0 in c:\\users\\home\\appdata\\local\\programs\\python\\python38\\lib\\site-packages (from Jinja2>=3.1.2->Flask>=0.9->flask-cors) (2.1.5)\n",
      "Note: you may need to restart the kernel to use updated packages.\n"
     ]
    }
   ],
   "source": [
    "pip install flask-cors"
   ]
  },
  {
   "cell_type": "code",
   "execution_count": 19,
   "metadata": {},
   "outputs": [
    {
     "name": "stdout",
     "output_type": "stream",
     "text": [
      "[[10, 16, 20, 22, 44, 45], [8, 24, 29, 33, 35, 37], [13, 14, 19, 26, 36, 44], [4, 6, 16, 30, 38, 41], [4, 9, 16, 20, 40, 45], [12, 15, 33, 37, 40, 44], [1, 4, 9, 28, 39, 44], [14, 17, 32, 33, 34, 45], [6, 19, 30, 32, 38, 44], [10, 15, 17, 28, 43, 44]]\n"
     ]
    }
   ],
   "source": [
    "\n",
    "\n",
    "\n",
    "all_results1 = str(all_results)\n",
    "\n",
    "print( all_results1)"
   ]
  },
  {
   "cell_type": "code",
   "execution_count": 20,
   "metadata": {},
   "outputs": [
    {
     "name": "stdout",
     "output_type": "stream",
     "text": [
      " * Serving Flask app '__main__'\n",
      " * Debug mode: off\n"
     ]
    },
    {
     "name": "stderr",
     "output_type": "stream",
     "text": [
      "WARNING: This is a development server. Do not use it in a production deployment. Use a production WSGI server instead.\n",
      " * Running on http://127.0.0.1:5001\n",
      "Press CTRL+C to quit\n",
      "127.0.0.1 - - [07/Oct/2024 21:57:39] \"GET /get-variable HTTP/1.1\" 200 -\n",
      "127.0.0.1 - - [07/Oct/2024 21:57:43] \"GET /get-variable HTTP/1.1\" 200 -\n",
      "127.0.0.1 - - [07/Oct/2024 21:57:45] \"GET /get-variable HTTP/1.1\" 200 -\n",
      "127.0.0.1 - - [07/Oct/2024 21:57:45] \"GET /get-variable HTTP/1.1\" 200 -\n",
      "127.0.0.1 - - [07/Oct/2024 21:57:46] \"GET /get-variable HTTP/1.1\" 200 -\n",
      "127.0.0.1 - - [07/Oct/2024 21:57:48] \"GET /get-variable HTTP/1.1\" 200 -\n",
      "127.0.0.1 - - [07/Oct/2024 21:57:52] \"GET /get-variable HTTP/1.1\" 200 -\n"
     ]
    }
   ],
   "source": [
    "from flask import Flask, jsonify\n",
    "from flask_cors import CORS\n",
    "import threading\n",
    "\n",
    "app = Flask(__name__)\n",
    "CORS(app)  # CORS 설정\n",
    "\n",
    "@app.route('/get-variable')\n",
    "def get_variable():\n",
    "    return jsonify({'all_results1': all_results1})\n",
    "\n",
    "def run_app():\n",
    "    app.run(port=5001, debug=False) \n",
    "\n",
    "# Flask 앱을 백그라운드에서 실행\n",
    "threading.Thread(target=run_app).start()"
   ]
  }
 ],
 "metadata": {
  "kernelspec": {
   "display_name": "Python 3",
   "language": "python",
   "name": "python3"
  },
  "language_info": {
   "codemirror_mode": {
    "name": "ipython",
    "version": 3
   },
   "file_extension": ".py",
   "mimetype": "text/x-python",
   "name": "python",
   "nbconvert_exporter": "python",
   "pygments_lexer": "ipython3",
   "version": "3.8.2rc1"
  }
 },
 "nbformat": 4,
 "nbformat_minor": 2
}
